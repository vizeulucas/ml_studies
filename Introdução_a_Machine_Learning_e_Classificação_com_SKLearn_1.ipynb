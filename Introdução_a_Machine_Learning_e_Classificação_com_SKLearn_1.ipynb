{
  "nbformat": 4,
  "nbformat_minor": 0,
  "metadata": {
    "colab": {
      "name": "Introdução a Machine Learning e Classificação com SKLearn - 1.ipynb",
      "version": "0.3.2",
      "provenance": []
    },
    "kernelspec": {
      "name": "python3",
      "display_name": "Python 3"
    }
  },
  "cells": [
    {
      "cell_type": "code",
      "metadata": {
        "id": "d_8ZJcj6OlJ6",
        "colab_type": "code",
        "colab": {}
      },
      "source": [
        "#features(1 sim, 0 não)\n",
        "#pelo é longo?\n",
        "#perna é curta?\n",
        "#emite latidos?\n",
        "porco1 = [0, 1, 0]\n",
        "porco2 = [0, 1, 1]\n",
        "porco3 = [1, 1, 0]\n",
        "\n",
        "cachorro1 = [0, 1, 1]\n",
        "cachorro2 = [1, 0, 1]\n",
        "cachorro3 = [1, 1, 1]\n",
        "\n",
        "# 1 == porco, 0 == cachorro\n",
        "train_x = [porco1, porco2, porco3, cachorro1, cachorro2, cachorro3]\n",
        "train_y= [1, 1, 1, 0, 0, 0] # labels"
      ],
      "execution_count": 0,
      "outputs": []
    },
    {
      "cell_type": "code",
      "metadata": {
        "id": "RyANL4dsSjpf",
        "colab_type": "code",
        "colab": {
          "base_uri": "https://localhost:8080/",
          "height": 90
        },
        "outputId": "af0cbfea-8be4-4ad5-cead-1280376e0534"
      },
      "source": [
        "from sklearn.svm import LinearSVC\n",
        "\n",
        "model = LinearSVC()\n",
        "model.fit(train_x, train_y)"
      ],
      "execution_count": 16,
      "outputs": [
        {
          "output_type": "execute_result",
          "data": {
            "text/plain": [
              "LinearSVC(C=1.0, class_weight=None, dual=True, fit_intercept=True,\n",
              "          intercept_scaling=1, loss='squared_hinge', max_iter=1000,\n",
              "          multi_class='ovr', penalty='l2', random_state=None, tol=0.0001,\n",
              "          verbose=0)"
            ]
          },
          "metadata": {
            "tags": []
          },
          "execution_count": 16
        }
      ]
    },
    {
      "cell_type": "code",
      "metadata": {
        "id": "6t-uzERGd2qV",
        "colab_type": "code",
        "colab": {
          "base_uri": "https://localhost:8080/",
          "height": 35
        },
        "outputId": "adaa33af-a488-4a1d-a701-4ea12d7af983"
      },
      "source": [
        "animal_misterioso = [1, 1, 1]\n",
        "model.predict([animal_misterioso])"
      ],
      "execution_count": 4,
      "outputs": [
        {
          "output_type": "execute_result",
          "data": {
            "text/plain": [
              "array([0])"
            ]
          },
          "metadata": {
            "tags": []
          },
          "execution_count": 4
        }
      ]
    },
    {
      "cell_type": "code",
      "metadata": {
        "id": "0E1APq9AeQQ1",
        "colab_type": "code",
        "colab": {}
      },
      "source": [
        "misterioso1 = [1, 1, 1]\n",
        "misterioso2 = [1, 1, 0]\n",
        "misterioso3 = [0, 1, 1]\n",
        "\n",
        "test_y = [0, 1, 1]\n",
        "test_x = [misterioso1, misterioso2, misterioso3]"
      ],
      "execution_count": 0,
      "outputs": []
    },
    {
      "cell_type": "code",
      "metadata": {
        "id": "VwKBiwbQhmvW",
        "colab_type": "code",
        "colab": {}
      },
      "source": [
        "previsoes = model.predict(test_x)"
      ],
      "execution_count": 0,
      "outputs": []
    },
    {
      "cell_type": "code",
      "metadata": {
        "id": "zV7WRCEjjTvm",
        "colab_type": "code",
        "colab": {
          "base_uri": "https://localhost:8080/",
          "height": 35
        },
        "outputId": "cc82aa1b-7370-4e5d-e297-6910a6bb81bf"
      },
      "source": [
        "previsoes == test_y"
      ],
      "execution_count": 22,
      "outputs": [
        {
          "output_type": "execute_result",
          "data": {
            "text/plain": [
              "array([ True,  True, False])"
            ]
          },
          "metadata": {
            "tags": []
          },
          "execution_count": 22
        }
      ]
    },
    {
      "cell_type": "code",
      "metadata": {
        "id": "CJRnwxqOjZnG",
        "colab_type": "code",
        "colab": {
          "base_uri": "https://localhost:8080/",
          "height": 35
        },
        "outputId": "b88a6145-b528-4493-ce5b-ae41057fc062"
      },
      "source": [
        "corretos = (previsoes == test_y).sum()\n",
        "total = len(test_x)\n",
        "taxa_de_acerto = corretos/total\n",
        "print(f'Taxa de acerto: {taxa_de_acerto*100:.2f}')"
      ],
      "execution_count": 28,
      "outputs": [
        {
          "output_type": "stream",
          "text": [
            "Taxa de acerto: 66.67\n"
          ],
          "name": "stdout"
        }
      ]
    },
    {
      "cell_type": "code",
      "metadata": {
        "id": "YLwH9uxzkgpm",
        "colab_type": "code",
        "colab": {
          "base_uri": "https://localhost:8080/",
          "height": 35
        },
        "outputId": "0d384f47-22a8-4f9d-9100-d91dbeac6740"
      },
      "source": [
        "from sklearn.metrics import accuracy_score\n",
        "\n",
        "\n",
        "taxa_de_acerto = accuracy_score(test_y, previsoes)\n",
        "print(f'Taxa de acerto: {taxa_de_acerto*100:.2f}')"
      ],
      "execution_count": 27,
      "outputs": [
        {
          "output_type": "stream",
          "text": [
            "Taxa de acerto: 66.67\n"
          ],
          "name": "stdout"
        }
      ]
    },
    {
      "cell_type": "code",
      "metadata": {
        "id": "uEW-A4xtk1Fm",
        "colab_type": "code",
        "colab": {}
      },
      "source": [
        ""
      ],
      "execution_count": 0,
      "outputs": []
    }
  ]
}